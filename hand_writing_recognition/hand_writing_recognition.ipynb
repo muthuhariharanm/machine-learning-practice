{
  "nbformat": 4,
  "nbformat_minor": 0,
  "metadata": {
    "colab": {
      "name": "hand_writing_recognition.ipynb",
      "provenance": [],
      "collapsed_sections": [],
      "authorship_tag": "ABX9TyOnm2t+KCak6J9g1QOp3xzD",
      "include_colab_link": true
    },
    "kernelspec": {
      "name": "python3",
      "display_name": "Python 3"
    },
    "accelerator": "GPU"
  },
  "cells": [
    {
      "cell_type": "markdown",
      "metadata": {
        "id": "view-in-github",
        "colab_type": "text"
      },
      "source": [
        "<a href=\"https://colab.research.google.com/github/muthuhariharanm/machine_learning_practice/blob/master/hand_writing_recognition/hand_writing_recognition.ipynb\" target=\"_parent\"><img src=\"https://colab.research.google.com/assets/colab-badge.svg\" alt=\"Open In Colab\"/></a>"
      ]
    },
    {
      "cell_type": "code",
      "metadata": {
        "id": "ft8wP8R_0Q6K",
        "colab_type": "code",
        "colab": {}
      },
      "source": [
        "from keras.models import Sequential\n",
        "from keras. layers import Dense \n",
        "from keras.utils import to_categorical\n",
        "import numpy as np \n",
        "import mnist\n",
        "import matplotlib.pyplot as plt"
      ],
      "execution_count": 0,
      "outputs": []
    },
    {
      "cell_type": "code",
      "metadata": {
        "id": "ny-NiCoU0iSe",
        "colab_type": "code",
        "colab": {}
      },
      "source": [
        "#Training set\n",
        "train_images = mnist.train_images()\n",
        "train_labels = mnist.train_labels()\n",
        "\n",
        "#Test set\n",
        "test_images = mnist. test_images()\n",
        "test_labels = mnist.test_labels()"
      ],
      "execution_count": 0,
      "outputs": []
    },
    {
      "cell_type": "code",
      "metadata": {
        "id": "HuZdj1et09J7",
        "colab_type": "code",
        "colab": {}
      },
      "source": [
        "#Normalize the pixel values from [0, 255] to [-0.5 to 0.5] \n",
        "train_images = (train_images / 255) - 0.5\n",
        "test_images = (test_images/ 255) - 0.5\n",
        "\n",
        "#Flatten each 28 x 28 image into a 784 = 28 * 28\n",
        "train_images = train_images.reshape((-1, 784))\n",
        "test_images = test_images.reshape((-1,784))\n",
        "\n",
        "#print the new image shape\n",
        "print(train_images.shape) #60,000 rows and 784 cols\n",
        "print(test_images.shape)  #10,000 rows and 784 cols"
      ],
      "execution_count": 0,
      "outputs": []
    },
    {
      "cell_type": "code",
      "metadata": {
        "id": "kByfzEcC1HvV",
        "colab_type": "code",
        "colab": {}
      },
      "source": [
        "#Define the model attributes\n",
        "model = Sequential()\n",
        "model.add(Dense(64, activation='relu', input_dim=784))\n",
        "model.add(Dense(64, activation='relu'))\n",
        "model.add(Dense(10, activation='softmax'))"
      ],
      "execution_count": 0,
      "outputs": []
    },
    {
      "cell_type": "code",
      "metadata": {
        "id": "vVdFTjpI1JrW",
        "colab_type": "code",
        "colab": {}
      },
      "source": [
        "#Add optimizer\n",
        "model.compile(\n",
        "  optimizer= 'adam',\n",
        "    loss = 'categorical_crossentropy',\n",
        "    metrics = ['accuracy']\n",
        ")"
      ],
      "execution_count": 0,
      "outputs": []
    },
    {
      "cell_type": "code",
      "metadata": {
        "id": "87Kk5HvO1L5d",
        "colab_type": "code",
        "colab": {}
      },
      "source": [
        "#Train with dataset\n",
        "model.fit(\n",
        "    train_images,\n",
        "    to_categorical(train_labels),\n",
        "    epochs=5,\n",
        "    batch_size = 3\n",
        ")"
      ],
      "execution_count": 0,
      "outputs": []
    },
    {
      "cell_type": "code",
      "metadata": {
        "id": "mBp4u52R1lJG",
        "colab_type": "code",
        "colab": {}
      },
      "source": [
        "#Save the model\n",
        "model.save_weights('model.h5')"
      ],
      "execution_count": 0,
      "outputs": []
    },
    {
      "cell_type": "code",
      "metadata": {
        "id": "dHIPpHJo1mle",
        "colab_type": "code",
        "colab": {}
      },
      "source": [
        "predictions = model.predict(test_images[:20])\n",
        "print (np.argmax(predictions, axis =1))\n",
        "print(test_labels[:20])"
      ],
      "execution_count": 0,
      "outputs": []
    },
    {
      "cell_type": "code",
      "metadata": {
        "id": "6_X8_sm31pB-",
        "colab_type": "code",
        "colab": {}
      },
      "source": [
        "for i in range(0,20):\n",
        "  first_image = test_images[i]\n",
        "  first_image = np.array(first_image, dtype='float')\n",
        "  pixels = first_image.reshape((28, 28))\n",
        "  plt.imshow(pixels, cmap='gray')\n",
        "  plt.show()"
      ],
      "execution_count": 0,
      "outputs": []
    }
  ]
}